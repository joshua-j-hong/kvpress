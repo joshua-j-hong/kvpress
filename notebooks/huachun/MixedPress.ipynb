{
 "cells": [
  {
   "cell_type": "markdown",
   "id": "7441be41-a1e8-49ae-a924-34b76473b157",
   "metadata": {},
   "source": [
    "# Mixing presses and quantization\n",
    "\n",
    "- [ ] Try to mix a press with a ComposedPress\n",
    "- [ ] Try to mix a ComposedPress with quantization"
   ]
  },
  {
   "cell_type": "code",
   "execution_count": null,
   "id": "709da50d-4020-468e-bfc9-92575928b396",
   "metadata": {},
   "outputs": [],
   "source": []
  }
 ],
 "metadata": {
  "kernelspec": {
   "display_name": "",
   "name": ""
  },
  "language_info": {
   "name": ""
  }
 },
 "nbformat": 4,
 "nbformat_minor": 5
}
